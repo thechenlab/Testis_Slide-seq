{
 "cells": [
  {
   "cell_type": "code",
   "execution_count": null,
   "metadata": {
    "ExecuteTime": {
     "end_time": "2019-08-29T01:26:28.370108Z",
     "start_time": "2019-08-29T01:26:26.968743Z"
    }
   },
   "outputs": [],
   "source": [
    "import os\n",
    "import pandas as pd\n",
    "import numpy as np\n",
    "from IPython.display import display\n",
    "import seaborn as sns\n",
    "import pandas.util.testing as tm\n",
    "import matplotlib.pyplot as plt\n",
    "import scipy.stats\n",
    "from sklearn.neighbors import NearestNeighbors\n",
    "from sklearn.cluster import MiniBatchKMeans\n",
    "import matplotlib.patches as mpatches\n",
    "import glob\n",
    "from IPython.display import display\n",
    "from tqdm import tqdm_notebook as tqdm\n",
    "import scanpy as sc\n",
    "%matplotlib inline"
   ]
  },
  {
   "cell_type": "markdown",
   "metadata": {},
   "source": [
    "### Define functions"
   ]
  },
  {
   "cell_type": "code",
   "execution_count": null,
   "metadata": {},
   "outputs": [],
   "source": [
    "#convert spatial coordinates into array \n",
    "def coords_to_arr(bc_loc_df):\n",
    "    coords_arr = bc_loc_df.loc[:,'x':'y'].to_numpy()\n",
    "    return coords_arr\n",
    "\n",
    "#perform nearest neighbor analysis and generate neighbor indices df\n",
    "def nbrs_df(coords_arr, k):\n",
    "    #calculate n nearest neighbors\n",
    "    nbrs = NearestNeighbors(n_neighbors=k, algorithm='auto').fit(coords_arr)\n",
    "    distances, indices = nbrs.kneighbors(coords_arr)\n",
    "    \n",
    "    #create df with indices of nearest neighbors \n",
    "    nbrs_inds = pd.DataFrame(indices)\n",
    "    return nbrs_inds\n",
    "\n",
    "#create list of windows with cell type counts\n",
    "def nbr_wind_dfs(nbrs_inds, bc_cell_type):\n",
    "    num_arr = [None]*len(nbrs_inds)\n",
    "    for index, row in nbrs_inds.iterrows():\n",
    "        num_arr[index] = pd.DataFrame(bc_cell_type.loc[row])\n",
    "    return num_arr\n",
    "\n",
    "#calculate frequencies of cell types given cell type counts in list of windows \n",
    "#param: df with raw counts data -> i.e. num_arr[i]\n",
    "#return: list of cell type frequencies where index in list is cell type number\n",
    "def calc_freq(cell_type_counts):\n",
    "    \n",
    "    #convert cell type assignments into list\n",
    "    row_nums = []\n",
    "    for index, row in cell_type_counts.iterrows(): #calculate frequency for each row\n",
    "        row_nums.append(row['Sub_cell_type'])\n",
    "    \n",
    "    #calculate frequency for each row\n",
    "    row_freq = {}\n",
    "    for n in row_nums:\n",
    "        row_freq[n] = row_freq.get(n, 0) + 1\n",
    "    \n",
    "    #store frequencies of cell type\n",
    "    freq_lst = []\n",
    "    \n",
    "    #add to freqs list\n",
    "    for ct in range(1,num_cell_types+1):\n",
    "        if ct in row_freq.keys():\n",
    "            freq_lst.append(row_freq[ct]/k)\n",
    "        else:\n",
    "            freq_lst.append(0)\n",
    "    return freq_lst\n",
    "\n",
    "#calculate frequency of cell types within each window\n",
    "def ct_freq_wind(num_arr):\n",
    "    wind_freq = []\n",
    "    for window in num_arr:\n",
    "        new_wind = calc_freq(window)\n",
    "        wind_freq.append(new_wind)\n",
    "    return wind_freq\n",
    "\n",
    "#conver wind_freq to dataframe\n",
    "def df_convert(wind_freq):\n",
    "    df_wind_freq = pd.DataFrame(data=wind_freq, columns=[\"ES\",\"RS\",\"Myoid\",\"SPC\",\"Differentiating SPG\",\"Sertoli\",\"Leydig\",\"Endothelial\",\"Macrophage\", \"Undifferentiated SPG\"])\n",
    "    return df_wind_freq"
   ]
  },
  {
   "cell_type": "markdown",
   "metadata": {},
   "source": [
    "### Import file"
   ]
  },
  {
   "cell_type": "code",
   "execution_count": null,
   "metadata": {
    "scrolled": true
   },
   "outputs": [],
   "source": [
    "# This file contains the cell type (including the undifferentiated and differentiating SPGs) and the bead location information of the all the beads.\n",
    "df_ct_cluster_stage_SPG_cln = pd.read_csv('filename.csv', index_col=0)\n",
    "print(df_ct_cluster_stage_SPG_cln.shape)\n",
    "df_ct_cluster_stage_SPG_cln.head(3)"
   ]
  },
  {
   "cell_type": "markdown",
   "metadata": {},
   "source": [
    "### Calculate spatial contact frequency for the SPGs"
   ]
  },
  {
   "cell_type": "code",
   "execution_count": null,
   "metadata": {},
   "outputs": [],
   "source": [
    "cell_types ={'1':\"ES\",\n",
    "                '2':\"RS\",\n",
    "                '3':\"Myoid\",\n",
    "                '4':\"SPC\",\n",
    "                '5':\"Differentiating SPG\",\n",
    "                '6':\"Sertoli\",\n",
    "                '7':\"Leydig\",\n",
    "                '8':\"Endothelial\",\n",
    "                '9':\"Macrophage\",\n",
    "                '10':\"Undifferentiated SPG\"}\n",
    "\n",
    "num_cell_types = len(cell_types)"
   ]
  },
  {
   "cell_type": "code",
   "execution_count": null,
   "metadata": {},
   "outputs": [],
   "source": [
    "#define window size\n",
    "k = 5"
   ]
  },
  {
   "cell_type": "code",
   "execution_count": null,
   "metadata": {},
   "outputs": [],
   "source": [
    "bc_cell_type = df_ct_cluster_stage_SPG_cln['Sub_cell_type']\n",
    "coords_arr = coords_to_arr(df_ct_cluster_stage_SPG_cln)\n",
    "nbrs_inds = nbrs_df(coords_arr, k)\n",
    "num_arr = nbr_wind_dfs(nbrs_inds, bc_cell_type)\n",
    "wind_freq = ct_freq_wind(num_arr)\n",
    "df_wind_freq = df_convert(wind_freq)\n",
    "KNN_Cell_Freq = pd.concat([df_ct_cluster_stage_SPG_cln, df_wind_freq], axis =1)\n",
    "KNN_Cell_Freq.head(3)"
   ]
  },
  {
   "cell_type": "markdown",
   "metadata": {},
   "source": [
    "### Test if the distribution of cellular neighborhood compositions is the same between the undifferentiated and differentiating SPGs"
   ]
  },
  {
   "cell_type": "code",
   "execution_count": null,
   "metadata": {},
   "outputs": [],
   "source": [
    "SPG_Clustering = KNN_Cell_Freq\n",
    "SPG_Clustering_sel = SPG_Clustering.loc[SPG_Clustering['Sub_cell_type'].isin([5,10])]"
   ]
  },
  {
   "cell_type": "code",
   "execution_count": null,
   "metadata": {},
   "outputs": [],
   "source": [
    "fig, axs = plt.subplots(2, 5, figsize=(14,8), sharey=True, sharex=True)\n",
    "\n",
    "sns.violinplot(ax=axs[0, 0], x=\"Sub_cell_type\", y=\"ES\", bw=1,data=SPG_Clustering_sel)\n",
    "axs[0, 0].set_title('ES_K5')\n",
    "\n",
    "sns.violinplot(ax=axs[0, 1],x=\"Sub_cell_type\", y=\"RS\", bw=1,data=SPG_Clustering_sel)\n",
    "axs[0, 1].set_title('RS_K5')\n",
    "\n",
    "sns.violinplot(ax=axs[0, 2],x=\"Sub_cell_type\", y=\"Myoid\", bw=1,data=SPG_Clustering_sel)\n",
    "axs[0, 2].set_title('Myoid_K5')\n",
    "\n",
    "sns.violinplot(ax=axs[0, 3],x=\"Sub_cell_type\", y=\"SPC\", bw=1,data=SPG_Clustering_sel)\n",
    "axs[0, 3].set_title('SPC_K5')\n",
    "\n",
    "sns.violinplot(ax=axs[0, 4],x=\"Sub_cell_type\", y=\"Differentiating SPG\", bw=1,data=SPG_Clustering_sel)\n",
    "axs[0, 4].set_title('Differentiating SPG_K5')\n",
    "\n",
    "sns.violinplot(ax=axs[1, 0],x=\"Sub_cell_type\", y=\"Sertoli\",bw=1, data=SPG_Clustering_sel)\n",
    "axs[1, 0].set_title('Sertoli_K5')\n",
    "\n",
    "sns.violinplot(ax=axs[1, 1],x=\"Sub_cell_type\", y=\"Leydig\", bw=1,data=SPG_Clustering_sel)\n",
    "axs[1, 1].set_title('Leydig_K5')\n",
    "\n",
    "sns.violinplot(ax=axs[1, 2],x=\"Sub_cell_type\", y=\"Endothelial\",bw=1, data=SPG_Clustering_sel)\n",
    "axs[1, 2].set_title('Endothelial_K5')\n",
    "\n",
    "sns.violinplot(ax=axs[1, 3],x=\"Sub_cell_type\", y=\"Macrophage\", bw=1,data=SPG_Clustering_sel)\n",
    "axs[1, 3].set_title('Macrophage_K5')\n",
    "\n",
    "sns.violinplot(ax=axs[1, 4],x=\"Sub_cell_type\", y=\"Undifferentiated SPG\", bw=1,data=SPG_Clustering_sel)\n",
    "axs[1, 4].set_title('Undifferentiated SPG_K5')"
   ]
  },
  {
   "cell_type": "code",
   "execution_count": null,
   "metadata": {},
   "outputs": [],
   "source": [
    "SPG_Clustering_Diff = SPG_Clustering[SPG_Clustering['Sub_cell_type']==5]\n",
    "SPG_Clustering_Undiff = SPG_Clustering[SPG_Clustering['Sub_cell_type']==10]"
   ]
  },
  {
   "cell_type": "code",
   "execution_count": null,
   "metadata": {
    "scrolled": true
   },
   "outputs": [],
   "source": [
    "# Bootstrap strategy to build the null distribution of the p values.\n",
    "Num_of_Permutation = 10000\n",
    "pvals_dic = {}\n",
    "for ct in tqdm([\"ES\",\"RS\",\"Myoid\",\"SPC\",\"Differentiating SPG\",\"Sertoli\",\"Leydig\",\"Endothelial\",\"Macrophage\", \"Undifferentiated SPG\"]):\n",
    "    pvals_dic[\"pvals {0}\".format(ct)] = np.zeros(Num_of_Permutation)\n",
    "    for p in tqdm(range(Num_of_Permutation)):\n",
    "        Diff_Beads_Random=np.random.choice(SPG_Clustering_Diff['barcode'].values, size = len(SPG_Clustering_Undiff),replace=False)\n",
    "        SPG_Clustering_Diff_Random = SPG_Clustering_Diff[SPG_Clustering_Diff['barcode'].isin(Diff_Beads_Random)]\n",
    "        pvals_dic[\"pvals {0}\".format(ct)][p]=scipy.stats.ks_2samp(SPG_Clustering_Diff_Random[ct].values, SPG_Clustering_Diff[ct].values)[1]        "
   ]
  },
  {
   "cell_type": "code",
   "execution_count": null,
   "metadata": {},
   "outputs": [],
   "source": [
    "# Compare the real p value (i.e., undifferentiated SPGs vs. differentiating SPGs) with the null distribution of p values\n",
    "n_bins = 20\n",
    "\n",
    "fig, axs = plt.subplots(2, 5, figsize=(14,8), sharey=True, sharex=True)\n",
    "\n",
    "axs[0, 0].hist(pvals_dic['pvals ES'], bins=n_bins)\n",
    "axs[0, 0].set_title('ES_K5')\n",
    "axs[0, 0].axvline(scipy.stats.ks_2samp(SPG_Clustering_Undiff['ES'].values, SPG_Clustering_Diff['ES'].values)[1], color='orange')\n",
    "axs[0, 1].hist(pvals_dic['pvals RS'], bins=n_bins)\n",
    "axs[0, 1].set_title('RS_K5')\n",
    "axs[0, 1].axvline(scipy.stats.ks_2samp(SPG_Clustering_Undiff['RS'].values, SPG_Clustering_Diff['RS'].values)[1], color='orange')\n",
    "axs[0, 2].hist(pvals_dic['pvals Myoid'], bins=n_bins)\n",
    "axs[0, 2].set_title('Myoid_K5')\n",
    "axs[0, 2].axvline(scipy.stats.ks_2samp(SPG_Clustering_Undiff['Myoid'].values, SPG_Clustering_Diff['Myoid'].values)[1], color='orange')\n",
    "axs[0, 3].hist(pvals_dic['pvals SPC'], bins=n_bins)\n",
    "axs[0, 3].set_title('SPC_K5')\n",
    "axs[0, 3].axvline(scipy.stats.ks_2samp(SPG_Clustering_Undiff['SPC'].values, SPG_Clustering_Diff['SPC'].values)[1], color='orange')\n",
    "axs[0, 4].hist(pvals_dic['pvals Differentiating SPG'], bins=n_bins)\n",
    "axs[0, 4].set_title('Differentiating SPG_K5')\n",
    "axs[0, 4].axvline(scipy.stats.ks_2samp(SPG_Clustering_Undiff['Differentiating SPG'].values, SPG_Clustering_Diff['Differentiating SPG'].values)[1], color='orange')\n",
    "axs[1, 0].hist(pvals_dic['pvals Sertoli'], bins=n_bins)\n",
    "axs[1, 0].set_title('Sertoli_K5')\n",
    "axs[1, 0].axvline(scipy.stats.ks_2samp(SPG_Clustering_Undiff['Sertoli'].values, SPG_Clustering_Diff['Sertoli'].values)[1], color='orange')\n",
    "axs[1, 1].hist(pvals_dic['pvals Leydig'], bins=n_bins)\n",
    "axs[1, 1].set_title('Leydig_K5')\n",
    "axs[1, 1].axvline(scipy.stats.ks_2samp(SPG_Clustering_Undiff['Leydig'].values, SPG_Clustering_Diff['Leydig'].values)[1], color='orange')\n",
    "axs[1, 2].hist(pvals_dic['pvals Endothelial'], bins=n_bins)\n",
    "axs[1, 2].set_title('Endothelial_K5')\n",
    "axs[1, 2].axvline(scipy.stats.ks_2samp(SPG_Clustering_Undiff['Endothelial'].values, SPG_Clustering_Diff['Endothelial'].values)[1], color='orange')\n",
    "axs[1, 3].hist(pvals_dic['pvals Macrophage'], bins=n_bins)\n",
    "axs[1, 3].set_title('Macrophage_K5')\n",
    "axs[1, 3].axvline(scipy.stats.ks_2samp(SPG_Clustering_Undiff['Macrophage'].values, SPG_Clustering_Diff['Macrophage'].values)[1], color='orange')\n",
    "axs[1, 4].hist(pvals_dic['pvals Undifferentiated SPG'], bins=n_bins)\n",
    "axs[1, 4].set_title('Undifferentiated SPG_K5')\n",
    "axs[1, 4].axvline(scipy.stats.ks_2samp(SPG_Clustering_Undiff['Undifferentiated SPG'].values, SPG_Clustering_Diff['Undifferentiated SPG'].values)[1], color='orange')"
   ]
  }
 ],
 "metadata": {
  "kernelspec": {
   "display_name": "Python 3",
   "language": "python",
   "name": "python3"
  },
  "language_info": {
   "codemirror_mode": {
    "name": "ipython",
    "version": 3
   },
   "file_extension": ".py",
   "mimetype": "text/x-python",
   "name": "python",
   "nbconvert_exporter": "python",
   "pygments_lexer": "ipython3",
   "version": "3.6.7"
  },
  "toc": {
   "base_numbering": 1,
   "nav_menu": {
    "height": "12px",
    "width": "252px"
   },
   "number_sections": true,
   "sideBar": true,
   "skip_h1_title": false,
   "title_cell": "Table of Contents",
   "title_sidebar": "Contents",
   "toc_cell": false,
   "toc_position": {},
   "toc_section_display": "block",
   "toc_window_display": true
  }
 },
 "nbformat": 4,
 "nbformat_minor": 2
}
