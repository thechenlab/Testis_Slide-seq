{
 "cells": [
  {
   "cell_type": "code",
   "execution_count": null,
   "metadata": {
    "ExecuteTime": {
     "end_time": "2019-08-29T01:26:28.370108Z",
     "start_time": "2019-08-29T01:26:26.968743Z"
    }
   },
   "outputs": [],
   "source": [
    "import os\n",
    "import pandas as pd\n",
    "import numpy as np\n",
    "from IPython.display import display\n",
    "import seaborn as sns\n",
    "import pandas.util.testing as tm\n",
    "import matplotlib.pyplot as plt\n",
    "import scipy.stats\n",
    "from sklearn.neighbors import NearestNeighbors\n",
    "from sklearn.cluster import MiniBatchKMeans\n",
    "import matplotlib.patches as mpatches\n",
    "import glob\n",
    "from IPython.display import display\n",
    "from tqdm import tqdm_notebook as tqdm\n",
    "import scanpy as sc\n",
    "%matplotlib inline"
   ]
  },
  {
   "cell_type": "markdown",
   "metadata": {},
   "source": [
    "### Define functions"
   ]
  },
  {
   "cell_type": "code",
   "execution_count": null,
   "metadata": {},
   "outputs": [],
   "source": [
    "#convert spatial coordinates into array \n",
    "def coords_to_arr(bc_loc_df):\n",
    "    coords_arr = bc_loc_df.loc[:,'x':'y'].to_numpy()\n",
    "    return coords_arr\n",
    "\n",
    "#perform nearest neighbor analysis and generate neighbor indices df\n",
    "def nbrs_df(coords_arr, k):\n",
    "    #calculate n nearest neighbors\n",
    "    nbrs = NearestNeighbors(n_neighbors=k, algorithm='auto').fit(coords_arr)\n",
    "    distances, indices = nbrs.kneighbors(coords_arr)\n",
    "    \n",
    "    #create df with indices of nearest neighbors \n",
    "    nbrs_inds = pd.DataFrame(indices)\n",
    "    return nbrs_inds\n",
    "\n",
    "#create list of windows with cell type counts\n",
    "def nbr_wind_dfs(nbrs_inds, bc_cell_type):\n",
    "    num_arr = [None]*len(nbrs_inds)\n",
    "    for index, row in nbrs_inds.iterrows():\n",
    "        num_arr[index] = pd.DataFrame(bc_cell_type.loc[row])\n",
    "    return num_arr\n",
    "\n",
    "#calculate frequencies of cell types given cell type counts in list of windows \n",
    "#param: df with raw counts data -> i.e. num_arr[i]\n",
    "#return: list of cell type frequencies where index in list is cell type number\n",
    "def calc_freq(cell_type_counts):\n",
    "    \n",
    "    #convert cell type assignments into list\n",
    "    row_nums = []\n",
    "    for index, row in cell_type_counts.iterrows(): #calculate frequency for each row\n",
    "        row_nums.append(row['Sub_cell_type'])\n",
    "    \n",
    "    #calculate frequency for each row\n",
    "    row_freq = {}\n",
    "    for n in row_nums:\n",
    "        row_freq[n] = row_freq.get(n, 0) + 1\n",
    "    \n",
    "    #store frequencies of cell type\n",
    "    freq_lst = []\n",
    "    \n",
    "    #add to freqs list\n",
    "    for ct in range(1,num_cell_types+1):\n",
    "        if ct in row_freq.keys():\n",
    "            freq_lst.append(row_freq[ct]/k)\n",
    "        else:\n",
    "            freq_lst.append(0)\n",
    "    return freq_lst\n",
    "\n",
    "#calculate frequency of cell types within each window\n",
    "def ct_freq_wind(num_arr):\n",
    "    wind_freq = []\n",
    "    for window in num_arr:\n",
    "        new_wind = calc_freq(window)\n",
    "        wind_freq.append(new_wind)\n",
    "    return wind_freq\n",
    "\n",
    "#conver wind_freq to dataframe\n",
    "def df_convert(wind_freq):\n",
    "    df_wind_freq = pd.DataFrame(data=wind_freq, columns=[\"ES\",\"RS\",\"Myoid\",\"SPC\",\"Differentiating SPG\",\"Sertoli\",\"Leydig\",\"Endothelial\",\"Macrophage\", \"Undifferentiated SPG\"])\n",
    "    return df_wind_freq"
   ]
  },
  {
   "cell_type": "markdown",
   "metadata": {},
   "source": [
    "### Import file"
   ]
  },
  {
   "cell_type": "code",
   "execution_count": null,
   "metadata": {
    "scrolled": true
   },
   "outputs": [],
   "source": [
    "# This file contains the cell type (including the undifferentiated and differentiating SPGs) and the bead location information of the all the beads.\n",
    "df_ct_cluster_stage_SPG_cln = pd.read_csv('filename.csv', index_col=0)\n",
    "print(df_ct_cluster_stage_SPG_cln.shape)\n",
    "df_ct_cluster_stage_SPG_cln.head(3)"
   ]
  },
  {
   "cell_type": "markdown",
   "metadata": {},
   "source": [
    "### Calculate spatial contact frequency for the SPGs"
   ]
  },
  {
   "cell_type": "code",
   "execution_count": null,
   "metadata": {},
   "outputs": [],
   "source": [
    "cell_types ={'1':\"ES\",\n",
    "                '2':\"RS\",\n",
    "                '3':\"Myoid\",\n",
    "                '4':\"SPC\",\n",
    "                '5':\"Differentiating SPG\",\n",
    "                '6':\"Sertoli\",\n",
    "                '7':\"Leydig\",\n",
    "                '8':\"Endothelial\",\n",
    "                '9':\"Macrophage\",\n",
    "                '10':\"Undifferentiated SPG\"}\n",
    "\n",
    "num_cell_types = len(cell_types)"
   ]
  },
  {
   "cell_type": "code",
   "execution_count": null,
   "metadata": {},
   "outputs": [],
   "source": [
    "#define window size\n",
    "k = 5"
   ]
  },
  {
   "cell_type": "code",
   "execution_count": null,
   "metadata": {},
   "outputs": [],
   "source": [
    "bc_cell_type = df_ct_cluster_stage_SPG_cln['Sub_cell_type']\n",
    "coords_arr = coords_to_arr(df_ct_cluster_stage_SPG_cln)\n",
    "nbrs_inds = nbrs_df(coords_arr, k)\n",
    "num_arr = nbr_wind_dfs(nbrs_inds, bc_cell_type)\n",
    "wind_freq = ct_freq_wind(num_arr)\n",
    "df_wind_freq = df_convert(wind_freq)\n",
    "KNN_Cell_Freq = pd.concat([df_ct_cluster_stage_SPG_cln, df_wind_freq], axis =1)\n",
    "KNN_Cell_Freq.head(3)"
   ]
  },
  {
   "cell_type": "markdown",
   "metadata": {},
   "source": [
    "### Select and output gene expression profiles and meta-data of beads in either the differentiating or undifferentiated SPG neighborhood for downstream differential expression analysis"
   ]
  },
  {
   "cell_type": "code",
   "execution_count": null,
   "metadata": {},
   "outputs": [],
   "source": [
    "# Read in the gene expression matrix of the whole Slide-seq array \n",
    "#(i.e., the MappedDGEF file provided in this link: https://www.dropbox.com/s/ygzpj0d0oh67br0/Testis_Slideseq_Data.zip?dl=0)\n",
    "Puck_DGE = pd.read_csv('MappedDGEForR.csv', index_col=0)\n",
    "print(Puck_T3_DGE.shape)\n",
    "Puck_DGE.head(3)"
   ]
  },
  {
   "cell_type": "code",
   "execution_count": null,
   "metadata": {},
   "outputs": [],
   "source": [
    "df_ct_cluster_stage_SPG_cln_SPG_ONLY = df_ct_cluster_stage_SPG_cln.loc[df_ct_cluster_stage_SPG_cln['Sub_cell_type'].isin([5, 10])]\n",
    "df_ct_cluster_stage_Undiff_SPG_ONLY = df_ct_cluster_stage_SPG_cln.loc[df_ct_cluster_stage_SPG_cln['Sub_cell_type'].isin([10])]\n",
    "df_ct_cluster_stage_Diff_SPG_ONLY = df_ct_cluster_stage_SPG_cln.loc[df_ct_cluster_stage_SPG_cln['Sub_cell_type'].isin([5])]\n",
    "Diff_ls = df_ct_cluster_stage_Diff_SPG_ONLY.index.values\n",
    "Undiff_ls = df_ct_cluster_stage_Undiff_SPG_ONLY.index.values"
   ]
  },
  {
   "cell_type": "code",
   "execution_count": null,
   "metadata": {
    "scrolled": true
   },
   "outputs": [],
   "source": [
    "# Generate a dictionary of gene expression profiles for every neighborhood surrounding either an undifferentiated\n",
    "# or differentiating SPG.\n",
    "SPG_set = set(df_ct_cluster_stage_SPG_cln_SPG_ONLY.index.values)\n",
    "Neighbor_DGE_Dict = {}\n",
    "for i in tqdm(range(len(nbrs_inds))):\n",
    "    Neighbor_set = set(nbrs_inds.loc[i,].values)\n",
    "    Difference_set = Neighbor_set.difference(SPG_set)\n",
    "    df_neighbor = df_ct_cluster_stage_SPG_cln.iloc[list(Difference_set),:]\n",
    "    Neighbor_DGE_Dict[i] = Puck_DGE.loc[list(df_neighbor['barcode'].values),:].reset_index()\n",
    "\n",
    "Neighbor_DGE_Dict_Diff = [Neighbor_DGE_Dict[i] for i in Diff_ls]\n",
    "Neighbor_DGE_Dict_Undiff = [Neighbor_DGE_Dict[i] for i in Undiff_ls]"
   ]
  },
  {
   "cell_type": "code",
   "execution_count": null,
   "metadata": {},
   "outputs": [],
   "source": [
    "# Convert dictionaries to dataframes.\n",
    "Neighbor_DGE_Undiff_df = pd.concat(Neighbor_DGE_Dict_Undiff, ignore_index=True)\n",
    "Neighbor_DGE_Diff_df = pd.concat(Neighbor_DGE_Dict_Diff, ignore_index=True)"
   ]
  },
  {
   "cell_type": "code",
   "execution_count": null,
   "metadata": {},
   "outputs": [],
   "source": [
    "# Deduplitate the dataframes and filter out beads that are shared by both the undifferentiated\n",
    "# and differentiating SPG neighborhoods.\n",
    "Neighbor_DGE_Undiff_df_dedup = Neighbor_DGE_Undiff_df.drop_duplicates().set_index('barcode')\n",
    "Neighbor_DGE_Diff_df_dedup = Neighbor_DGE_Diff_df.drop_duplicates().set_index('barcode')\n",
    "Undiff_dedup_set = set(Neighbor_DGE_Undiff_df_dedup.index.values)\n",
    "Diff_dedup_set = set(Neighbor_DGE_Diff_df_dedup.index.values)\n",
    "Neighbor_DGE_Undiff_df_deoverlap = Neighbor_DGE_Undiff_df_dedup.loc[list(Undiff_dedup_set.difference(Diff_dedup_set))]\n",
    "Neighbor_DGE_Diff_df_deoverlap = Neighbor_DGE_Diff_df_dedup.loc[list(Diff_dedup_set.difference(Undiff_dedup_set))]"
   ]
  },
  {
   "cell_type": "code",
   "execution_count": null,
   "metadata": {},
   "outputs": [],
   "source": [
    "# Output neighboring bead gene expression matrix.\n",
    "Neighbor_DGE_Comb_df_deoverlap = pd.concat([Neighbor_DGE_Undiff_df_deoverlap.T.add_prefix('Undiff_'), Neighbor_DGE_Diff_df_deoverlap.T.add_prefix('Diff_')],axis=1)\n",
    "Neighbor_DGE_Comb_df_deoverlap.to_csv('DGE_SPG_Neighboring_Beads_K{}'.format(k)+'.csv')"
   ]
  },
  {
   "cell_type": "code",
   "execution_count": null,
   "metadata": {},
   "outputs": [],
   "source": [
    "Neighbor_ct_undiff = df_ct_cluster_stage_SPG_cln.loc[df_ct_cluster_stage_SPG_cln['barcode'].isin(Neighbor_DGE_Undiff_df_deoverlap.index.values)]\n",
    "Neighbor_ct_undiff_cln = Neighbor_ct_undiff[['barcode', 'Stage_assigned', 'Sub_cell_type']]\n",
    "Neighbor_ct_undiff_cln['Neighborhood'] = 'Undiff'\n",
    "Neighbor_ct_undiff_cln['barcode'] = 'Undiff_' + Neighbor_ct_undiff_cln['barcode'].astype(str)\n",
    "\n",
    "Neighbor_ct_diff = df_ct_cluster_stage_SPG_cln.loc[df_ct_cluster_stage_SPG_cln['barcode'].isin(Neighbor_DGE_Diff_df_deoverlap.index.values)]\n",
    "Neighbor_ct_diff_cln = Neighbor_ct_diff[['barcode', 'Stage_assigned', 'Sub_cell_type']]\n",
    "Neighbor_ct_diff_cln['Neighborhood'] = 'Diff'\n",
    "Neighbor_ct_diff_cln['barcode'] = 'Diff_' + Neighbor_ct_diff_cln['barcode'].astype(str)"
   ]
  },
  {
   "cell_type": "code",
   "execution_count": null,
   "metadata": {},
   "outputs": [],
   "source": [
    "# Output neighboring bead meta-data\n",
    "Neighbor_ct_comb_cln = pd.concat([Neighbor_ct_undiff_cln.set_index('barcode'), Neighbor_ct_diff_cln.set_index('barcode')])\n",
    "Neighbor_ct_comb_cln.to_csv('Meta_Data_SPG_Neighboring_Beads_K{}'.format(k)+'.csv')"
   ]
  }
 ],
 "metadata": {
  "kernelspec": {
   "display_name": "Python 3",
   "language": "python",
   "name": "python3"
  },
  "language_info": {
   "codemirror_mode": {
    "name": "ipython",
    "version": 3
   },
   "file_extension": ".py",
   "mimetype": "text/x-python",
   "name": "python",
   "nbconvert_exporter": "python",
   "pygments_lexer": "ipython3",
   "version": "3.6.7"
  },
  "toc": {
   "base_numbering": 1,
   "nav_menu": {
    "height": "12px",
    "width": "252px"
   },
   "number_sections": true,
   "sideBar": true,
   "skip_h1_title": false,
   "title_cell": "Table of Contents",
   "title_sidebar": "Contents",
   "toc_cell": false,
   "toc_position": {},
   "toc_section_display": "block",
   "toc_window_display": true
  }
 },
 "nbformat": 4,
 "nbformat_minor": 2
}
