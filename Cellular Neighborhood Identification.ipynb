{
 "cells": [
  {
   "cell_type": "code",
   "execution_count": null,
   "metadata": {
    "ExecuteTime": {
     "end_time": "2020-08-27T19:17:39.726962Z",
     "start_time": "2020-08-27T19:17:23.971689Z"
    }
   },
   "outputs": [],
   "source": [
    "import pandas as pd\n",
    "import pandas.util.testing as tm\n",
    "import numpy as np\n",
    "import matplotlib.pyplot as plt\n",
    "from sklearn.neighbors import NearestNeighbors\n",
    "from sklearn.cluster import MiniBatchKMeans\n",
    "import matplotlib.patches as mpatches\n",
    "import seaborn as sns\n",
    "%matplotlib inline"
   ]
  },
  {
   "cell_type": "code",
   "execution_count": null,
   "metadata": {
    "ExecuteTime": {
     "end_time": "2020-08-27T19:17:39.737097Z",
     "start_time": "2020-08-27T19:17:39.728674Z"
    }
   },
   "outputs": [],
   "source": [
    "# Matach the transcriptional states of human spermatogonia \n",
    "cell_types = {'1':'State 0',\n",
    "              '2':'State 1',\n",
    "              '3':'State 2',\n",
    "              '4':'State 3',\n",
    "              '5':'State 4'}\n",
    "\n",
    "num_cell_types = len(cell_types)"
   ]
  },
  {
   "cell_type": "markdown",
   "metadata": {},
   "source": [
    "# Define methods"
   ]
  },
  {
   "cell_type": "code",
   "execution_count": null,
   "metadata": {
    "ExecuteTime": {
     "end_time": "2020-08-27T19:17:39.891319Z",
     "start_time": "2020-08-27T19:17:39.873017Z"
    }
   },
   "outputs": [],
   "source": [
    "#convert spatial coordinates into array \n",
    "def coords_to_arr(bc_loc_df):\n",
    "    coords_arr = bc_loc_df.loc[:,'x':'y'].to_numpy()\n",
    "    return coords_arr"
   ]
  },
  {
   "cell_type": "code",
   "execution_count": null,
   "metadata": {
    "ExecuteTime": {
     "end_time": "2020-08-27T19:17:39.912572Z",
     "start_time": "2020-08-27T19:17:39.893165Z"
    }
   },
   "outputs": [],
   "source": [
    "#perform nearest neighbor analysis and generate neighbor indices df\n",
    "def nbrs_df(coords_arr, k):\n",
    "    #calculate n nearest neighbors\n",
    "    nbrs = NearestNeighbors(n_neighbors=k, algorithm='auto').fit(coords_arr)\n",
    "    distances, indices = nbrs.kneighbors(coords_arr)\n",
    "    \n",
    "    #create df with indices of nearest neighbors \n",
    "    nbrs_inds = pd.DataFrame(indices)\n",
    "    return nbrs_inds"
   ]
  },
  {
   "cell_type": "code",
   "execution_count": null,
   "metadata": {
    "ExecuteTime": {
     "end_time": "2020-08-27T19:17:39.934384Z",
     "start_time": "2020-08-27T19:17:39.914091Z"
    }
   },
   "outputs": [],
   "source": [
    "#create list of windows with cell type counts\n",
    "def nbr_wind_dfs(nbrs_inds, bc_cell_type):\n",
    "    num_arr = [None]*len(nbrs_inds)\n",
    "    for index, row in nbrs_inds.iterrows():\n",
    "        num_arr[index] = pd.DataFrame(bc_cell_type.loc[row])\n",
    "    return num_arr"
   ]
  },
  {
   "cell_type": "code",
   "execution_count": null,
   "metadata": {
    "ExecuteTime": {
     "end_time": "2020-08-27T19:17:39.957575Z",
     "start_time": "2020-08-27T19:17:39.935912Z"
    }
   },
   "outputs": [],
   "source": [
    "#calculate frequencies of cell types given cell type counts in list of windows \n",
    "#param: df with raw counts data -> i.e. num_arr[i]\n",
    "#return: list of cell type frequencies where index in list is cell type number\n",
    "def calc_freq(cell_type_counts):\n",
    "    \n",
    "    #convert cell type assignments into list\n",
    "    row_nums = []\n",
    "    for index, row in cell_type_counts.iterrows(): #calculate frequency for each row\n",
    "        row_nums.append(row['max_cell_type'])\n",
    "    \n",
    "    #calculate frequency for each row\n",
    "    row_freq = {}\n",
    "    for n in row_nums:\n",
    "        row_freq[n] = row_freq.get(n, 0) + 1\n",
    "    \n",
    "    #store frequencies of cell type\n",
    "    freq_lst = []\n",
    "    \n",
    "    #add to freqs list\n",
    "    for ct in range(1,num_cell_types+1):\n",
    "        if ct in row_freq.keys():\n",
    "            freq_lst.append(row_freq[ct]/k)\n",
    "        else:\n",
    "            freq_lst.append(0)\n",
    "    return freq_lst"
   ]
  },
  {
   "cell_type": "code",
   "execution_count": null,
   "metadata": {
    "ExecuteTime": {
     "end_time": "2020-08-27T19:17:39.977386Z",
     "start_time": "2020-08-27T19:17:39.959087Z"
    }
   },
   "outputs": [],
   "source": [
    "#calculate frequency of cell types within each window\n",
    "def ct_freq_wind(num_arr):\n",
    "    wind_freq = []\n",
    "    for window in num_arr:\n",
    "        new_wind = calc_freq(window)\n",
    "        wind_freq.append(new_wind)\n",
    "    return wind_freq"
   ]
  },
  {
   "cell_type": "markdown",
   "metadata": {},
   "source": [
    "# Calculate cell state frequency"
   ]
  },
  {
   "cell_type": "code",
   "execution_count": null,
   "metadata": {
    "ExecuteTime": {
     "end_time": "2020-08-27T19:17:40.107379Z",
     "start_time": "2020-08-27T19:17:40.089944Z"
    }
   },
   "outputs": [],
   "source": [
    "#define window size\n",
    "k = 10"
   ]
  },
  {
   "cell_type": "code",
   "execution_count": null,
   "metadata": {
    "ExecuteTime": {
     "end_time": "2020-08-27T19:17:40.438521Z",
     "start_time": "2020-08-27T19:17:40.108873Z"
    }
   },
   "outputs": [],
   "source": [
    "#read in files containing the bead location and the cell state assignment info\n",
    "bc_loc_df = pd.read_csv('file name.csv', index_col=0)\n",
    "cell_state_df = pd.read_csv('file name.csv', index_col=0)"
   ]
  },
  {
   "cell_type": "code",
   "execution_count": null,
   "metadata": {
    "ExecuteTime": {
     "end_time": "2020-08-27T19:25:08.442954Z",
     "start_time": "2020-08-27T19:17:40.745100Z"
    },
    "scrolled": true
   },
   "outputs": [],
   "source": [
    "# Calculate cell state frequency for each window\n",
    "coords_arr = coords_to_arr(bc_loc_df)\n",
    "nbrs_inds = nbrs_df(coords_arr, k)\n",
    "num_arr = nbr_wind_dfs(nbrs_inds, cell_state_df)\n",
    "wind_freq = ct_freq_wind(num_arr)\n",
    "wind_freq_df = pd.DataFrame(wind_freq, columns =['State 0', 'State 1', 'State 2', 'State 3', 'State 4'], dtype = float)\n",
    "print(wind_freq_df.shape)\n",
    "wind_freq_df.head(3)"
   ]
  },
  {
   "cell_type": "code",
   "execution_count": null,
   "metadata": {},
   "outputs": [],
   "source": [
    "df_combined = pd.concat([wind_freq_df, bc_loc], axis=1)\n",
    "df_combined.head(3)"
   ]
  },
  {
   "cell_type": "code",
   "execution_count": null,
   "metadata": {},
   "outputs": [],
   "source": [
    "df_combined = df_combined.sort_values(by=['cluster']) # sort by spermatogonium states\n",
    "df_combined.head(3)"
   ]
  },
  {
   "cell_type": "code",
   "execution_count": null,
   "metadata": {},
   "outputs": [],
   "source": [
    "df_combined_select = df_combined[['State 0', 'State 1', 'State 2', 'State 3', 'State 4']]\n",
    "df_combined_select.head(3)"
   ]
  },
  {
   "cell_type": "code",
   "execution_count": null,
   "metadata": {},
   "outputs": [],
   "source": [
    "df_combbined_select = df_combbined_select.reset_index(drop=True)\n",
    "df_combbined_select.head(3)"
   ]
  },
  {
   "cell_type": "code",
   "execution_count": null,
   "metadata": {},
   "outputs": [],
   "source": [
    "ax = sns.heatmap(df_combbined_select, cmap=\"YlGnBu\")"
   ]
  }
 ],
 "metadata": {
  "kernelspec": {
   "display_name": "Python 3",
   "language": "python",
   "name": "python3"
  },
  "language_info": {
   "codemirror_mode": {
    "name": "ipython",
    "version": 3
   },
   "file_extension": ".py",
   "mimetype": "text/x-python",
   "name": "python",
   "nbconvert_exporter": "python",
   "pygments_lexer": "ipython3",
   "version": "3.6.7"
  },
  "notify_time": "30"
 },
 "nbformat": 4,
 "nbformat_minor": 2
}
