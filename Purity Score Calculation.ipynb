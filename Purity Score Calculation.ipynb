{
 "cells": [
  {
   "cell_type": "markdown",
   "metadata": {},
   "source": [
    "# ES purity score"
   ]
  },
  {
   "cell_type": "code",
   "execution_count": null,
   "metadata": {
    "ExecuteTime": {
     "end_time": "2020-08-27T19:17:39.726962Z",
     "start_time": "2020-08-27T19:17:23.971689Z"
    }
   },
   "outputs": [],
   "source": [
    "import pandas as pd\n",
    "import pandas.util.testing as tm\n",
    "import numpy as np\n",
    "import matplotlib.pyplot as plt\n",
    "from sklearn.neighbors import NearestNeighbors\n",
    "from sklearn.cluster import MiniBatchKMeans\n",
    "import matplotlib.patches as mpatches\n",
    "import seaborn as sns\n",
    "import glob\n",
    "from IPython.display import display\n",
    "from scipy.stats import mannwhitneyu\n",
    "%matplotlib inline"
   ]
  },
  {
   "cell_type": "code",
   "execution_count": null,
   "metadata": {
    "ExecuteTime": {
     "end_time": "2020-08-27T19:17:39.737097Z",
     "start_time": "2020-08-27T19:17:39.728674Z"
    }
   },
   "outputs": [],
   "source": [
    "cell_types ={'1':\"ES\",\n",
    "                '2':\"RS\",\n",
    "                '3':\"Myoid\",\n",
    "                '4':\"SPC\",\n",
    "                '5':\"SPG\",\n",
    "                '6':\"Sertoli\",\n",
    "                '7':\"Leydig\",\n",
    "                '8':\"Endothelial\",\n",
    "                '9':\"Macrophage\"}\n",
    "\n",
    "num_cell_types = len(cell_types)"
   ]
  },
  {
   "cell_type": "code",
   "execution_count": null,
   "metadata": {
    "ExecuteTime": {
     "end_time": "2020-08-27T19:17:39.759111Z",
     "start_time": "2020-08-27T19:17:39.739218Z"
    }
   },
   "outputs": [],
   "source": [
    "#names of spatial location dfs\n",
    "path = \"WT Tubule Directory/*.csv\"\n",
    "spac_locs_names_wt =[]\n",
    "for fname in glob.glob(path):\n",
    "    spac_locs_names_wt.append(fname)"
   ]
  },
  {
   "cell_type": "code",
   "execution_count": null,
   "metadata": {},
   "outputs": [],
   "source": [
    "path_1 = \"Diabetic Tubule Directory/*.csv\"\n",
    "spac_locs_names_d = []\n",
    "for fname in glob.glob(path_1):\n",
    "    spac_locs_names_d.append(fname)"
   ]
  },
  {
   "cell_type": "markdown",
   "metadata": {},
   "source": [
    "# Define methods"
   ]
  },
  {
   "cell_type": "code",
   "execution_count": null,
   "metadata": {
    "ExecuteTime": {
     "end_time": "2020-08-27T19:17:39.870173Z",
     "start_time": "2020-08-27T19:17:39.850726Z"
    }
   },
   "outputs": [],
   "source": [
    "def read_df_list(df_names_list):\n",
    "    df_list = []\n",
    "    for i in range(len(df_names_list)):\n",
    "        df_list.append(pd.read_csv(f'{df_names_list[i]}'))\n",
    "    return df_list"
   ]
  },
  {
   "cell_type": "code",
   "execution_count": null,
   "metadata": {
    "ExecuteTime": {
     "end_time": "2020-08-27T19:17:39.891319Z",
     "start_time": "2020-08-27T19:17:39.873017Z"
    }
   },
   "outputs": [],
   "source": [
    "#convert spatial coordinates into array \n",
    "def coords_to_arr(bc_loc_df):\n",
    "    coords_arr = bc_loc_df.loc[:,'xcoord':'ycoord'].to_numpy()\n",
    "    return coords_arr"
   ]
  },
  {
   "cell_type": "code",
   "execution_count": null,
   "metadata": {
    "ExecuteTime": {
     "end_time": "2020-08-27T19:17:39.912572Z",
     "start_time": "2020-08-27T19:17:39.893165Z"
    }
   },
   "outputs": [],
   "source": [
    "#perform nearest neighbor analysis and generate neighbor indices df\n",
    "def nbrs_df(coords_arr, k):\n",
    "    #calculate n nearest neighbors\n",
    "    nbrs = NearestNeighbors(n_neighbors=k, algorithm='auto').fit(coords_arr)\n",
    "    distances, indices = nbrs.kneighbors(coords_arr)\n",
    "    \n",
    "    #create df with indices of nearest neighbors \n",
    "    nbrs_inds = pd.DataFrame(indices)\n",
    "    return nbrs_inds"
   ]
  },
  {
   "cell_type": "code",
   "execution_count": null,
   "metadata": {
    "ExecuteTime": {
     "end_time": "2020-08-27T19:17:39.934384Z",
     "start_time": "2020-08-27T19:17:39.914091Z"
    }
   },
   "outputs": [],
   "source": [
    "#create list of windows with cell type counts\n",
    "def nbr_wind_dfs(nbrs_inds, bc_cell_type):\n",
    "    num_arr = [None]*len(nbrs_inds)\n",
    "    for index, row in nbrs_inds.iterrows():\n",
    "        num_arr[index] = pd.DataFrame(bc_cell_type.loc[row])\n",
    "    return num_arr"
   ]
  },
  {
   "cell_type": "code",
   "execution_count": null,
   "metadata": {
    "ExecuteTime": {
     "end_time": "2020-08-27T19:17:39.957575Z",
     "start_time": "2020-08-27T19:17:39.935912Z"
    }
   },
   "outputs": [],
   "source": [
    "#calculate frequencies of cell types given cell type counts in list of windows \n",
    "#param: df with raw counts data -> i.e. num_arr[i]\n",
    "#return: list of cell type frequencies where index in list is cell type number\n",
    "def calc_freq(cell_type_counts):\n",
    "    \n",
    "    #convert cell type assignments into list\n",
    "    row_nums = []\n",
    "    for index, row in cell_type_counts.iterrows(): #calculate frequency for each row\n",
    "        row_nums.append(row['max_cell_type'])\n",
    "    \n",
    "    #calculate frequency for each row\n",
    "    row_freq = {}\n",
    "    for n in row_nums:\n",
    "        row_freq[n] = row_freq.get(n, 0) + 1\n",
    "    \n",
    "    #store frequencies of cell type\n",
    "    freq_lst = []\n",
    "    \n",
    "    #add to freqs list\n",
    "    for ct in range(1,num_cell_types+1):\n",
    "        if ct in row_freq.keys():\n",
    "            freq_lst.append(row_freq[ct]/k)\n",
    "        else:\n",
    "            freq_lst.append(0)\n",
    "    return freq_lst"
   ]
  },
  {
   "cell_type": "code",
   "execution_count": null,
   "metadata": {
    "ExecuteTime": {
     "end_time": "2020-08-27T19:17:39.977386Z",
     "start_time": "2020-08-27T19:17:39.959087Z"
    }
   },
   "outputs": [],
   "source": [
    "#calculate frequency of cell types within each window\n",
    "def ct_freq_wind(num_arr):\n",
    "    wind_freq = []\n",
    "    for window in num_arr:\n",
    "        new_wind = calc_freq(window)\n",
    "        wind_freq.append(new_wind)\n",
    "    return wind_freq"
   ]
  },
  {
   "cell_type": "code",
   "execution_count": null,
   "metadata": {},
   "outputs": [],
   "source": [
    "#conver wind_freq to dataframe\n",
    "def df_convert(wind_freq):\n",
    "    df_wind_freq = pd.DataFrame(data=wind_freq, columns=[\"ES\",\"RS\",\"Myoid\",\"SPC\",\"SPG\",\"Sertoli\",\"Leydig\",\"Endothelial\",\"Macrophage\"])\n",
    "    df_wind_freq_filter = df_wind_freq[df_wind_freq.ES != 0]\n",
    "    return df_wind_freq_filter"
   ]
  },
  {
   "cell_type": "code",
   "execution_count": null,
   "metadata": {},
   "outputs": [],
   "source": [
    "def count_purity(df_wind_freq_filter):\n",
    "    purity = df_wind_freq_filter[\"ES\"].mean()\n",
    "    return purity"
   ]
  },
  {
   "cell_type": "code",
   "execution_count": null,
   "metadata": {},
   "outputs": [],
   "source": [
    "def count_ES(df):\n",
    "    return (df.max_cell_type == 1).sum()"
   ]
  },
  {
   "cell_type": "markdown",
   "metadata": {},
   "source": [
    "### Calculating ES purity score"
   ]
  },
  {
   "cell_type": "code",
   "execution_count": null,
   "metadata": {
    "ExecuteTime": {
     "end_time": "2020-08-27T19:17:40.107379Z",
     "start_time": "2020-08-27T19:17:40.089944Z"
    }
   },
   "outputs": [],
   "source": [
    "#define window size\n",
    "k = 5"
   ]
  },
  {
   "cell_type": "code",
   "execution_count": null,
   "metadata": {
    "ExecuteTime": {
     "end_time": "2020-08-27T19:17:40.438521Z",
     "start_time": "2020-08-27T19:17:40.108873Z"
    }
   },
   "outputs": [],
   "source": [
    "#read in file names as dfs\n",
    "spac_locs_dfs_wt = read_df_list(spac_locs_names_wt)"
   ]
  },
  {
   "cell_type": "code",
   "execution_count": null,
   "metadata": {
    "ExecuteTime": {
     "end_time": "2020-08-27T19:25:08.442954Z",
     "start_time": "2020-08-27T19:17:40.745100Z"
    }
   },
   "outputs": [],
   "source": [
    "wt_purity_count=[]\n",
    "wt_ES_count=[]\n",
    "\n",
    "for df_ind in range(len(spac_locs_dfs_wt)):\n",
    "    bc_loc = spac_locs_dfs_wt[df_ind]\n",
    "    bc_cell_type = bc_loc['max_cell_type']\n",
    "    ES_count = count_ES(bc_loc)\n",
    "    wt_ES_count.append(ES_count)\n",
    "    \n",
    "    coords_arr = coords_to_arr(bc_loc)\n",
    "\n",
    "    nbrs_inds = nbrs_df(coords_arr, k)\n",
    "    num_arr = nbr_wind_dfs(nbrs_inds, bc_cell_type)\n",
    "    wind_freq = ct_freq_wind(num_arr)\n",
    "    \n",
    "    df_wind_freq_filter = df_convert(wind_freq)\n",
    "    \n",
    "    purity = count_purity(df_wind_freq_filter)\n",
    "    wt_purity_count.append(purity)\n",
    "    \n",
    "wt_purity_count\n",
    "wt_ES_count"
   ]
  },
  {
   "cell_type": "code",
   "execution_count": null,
   "metadata": {},
   "outputs": [],
   "source": [
    "df_wt_purity = pd.DataFrame(data={\"purity_score\": wt_purity_count, 'ES_count': wt_ES_count})\n",
    "df_wt_purity.head(3)"
   ]
  },
  {
   "cell_type": "code",
   "execution_count": null,
   "metadata": {},
   "outputs": [],
   "source": [
    "spac_locs_dfs_d = read_df_list(spac_locs_names_d)"
   ]
  },
  {
   "cell_type": "code",
   "execution_count": null,
   "metadata": {},
   "outputs": [],
   "source": [
    "D_purity_count=[]\n",
    "D_ES_count=[]\n",
    "for df_ind in range(len(spac_locs_dfs_d)):\n",
    "    bc_loc = spac_locs_dfs_d[df_ind]\n",
    "    bc_cell_type = bc_loc['max_cell_type']\n",
    "    ES_count = count_ES(bc_loc)\n",
    "    D_ES_count.append(ES_count)\n",
    "\n",
    "    coords_arr = coords_to_arr(bc_loc)\n",
    "\n",
    "    nbrs_inds = nbrs_df(coords_arr, k)\n",
    "    num_arr = nbr_wind_dfs(nbrs_inds, bc_cell_type)\n",
    "    wind_freq = ct_freq_wind(num_arr)\n",
    "    \n",
    "    df_wind_freq_filter = df_convert(wind_freq)\n",
    "    \n",
    "    purity = count_purity(df_wind_freq_filter)\n",
    "    D_purity_count.append(purity)\n",
    "    \n",
    "D_purity_count\n",
    "D_ES_count"
   ]
  },
  {
   "cell_type": "code",
   "execution_count": null,
   "metadata": {},
   "outputs": [],
   "source": [
    "df_D_purity = pd.DataFrame(data={\"purity_score\": D_purity_count, 'ES_count': D_ES_count})\n",
    "df_D_purity.head(3)"
   ]
  },
  {
   "cell_type": "code",
   "execution_count": null,
   "metadata": {},
   "outputs": [],
   "source": [
    "sns.scatterplot(data=df_wt_purity, x=\"ES_count\", y=\"purity_score\", label = 'WT')\n",
    "sns.scatterplot(data=df_D_purity, x=\"ES_count\", y=\"purity_score\", label = 'ob/ob')\n",
    "plt.title('K=5')\n",
    "plt.xlim(50,250)\n",
    "plt.legend()"
   ]
  },
  {
   "cell_type": "code",
   "execution_count": null,
   "metadata": {},
   "outputs": [],
   "source": [
    "df_D_purity_select = df_D_purity[df_D_purity.ES_count >= 50]\n",
    "df_wt_purity_select = df_wt_purity[df_wt_purity.ES_count >= 50]\n",
    "df_D_purity_select.head(3)"
   ]
  },
  {
   "cell_type": "code",
   "execution_count": null,
   "metadata": {},
   "outputs": [],
   "source": [
    "Arr_D_purity_select = df_D_purity_select['purity_score'].values\n",
    "Arr_wt_purity_select = df_wt_purity_select['purity_score'].values\n",
    "stat, p = mannwhitneyu(Arr_wt_purity_select, Arr_D_purity_select)\n",
    "print('Statistics=%.3f, p=%.7f' % (stat, p))"
   ]
  }
 ],
 "metadata": {
  "kernelspec": {
   "display_name": "Python 3",
   "language": "python",
   "name": "python3"
  },
  "language_info": {
   "codemirror_mode": {
    "name": "ipython",
    "version": 3
   },
   "file_extension": ".py",
   "mimetype": "text/x-python",
   "name": "python",
   "nbconvert_exporter": "python",
   "pygments_lexer": "ipython3",
   "version": "3.6.7"
  },
  "notify_time": "30"
 },
 "nbformat": 4,
 "nbformat_minor": 2
}
