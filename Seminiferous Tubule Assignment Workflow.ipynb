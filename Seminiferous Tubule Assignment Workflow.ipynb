{
 "cells": [
  {
   "cell_type": "code",
   "execution_count": null,
   "metadata": {},
   "outputs": [],
   "source": [
    "%matplotlib inline\n",
    "import numpy as np\n",
    "import pandas as pd\n",
    "import matplotlib.pyplot as plt\n",
    "import sklearn as sklearn\n",
    "import seaborn as sns; sns.set()\n",
    "import scipy\n",
    "from sklearn.model_selection import train_test_split\n",
    "from sklearn.neighbors import KNeighborsClassifier\n",
    "from sklearn.metrics import classification_report, confusion_matrix\n",
    "import matplotlib\n",
    "import json\n",
    "from tqdm import tqdm_notebook as tqdm\n",
    "import os\n",
    "from scipy import stats\n",
    "import math\n",
    "import scanpy as sc\n",
    "import astropy\n",
    "from astropy.convolution import convolve, Gaussian2DKernel\n",
    "import mahotas as mh\n",
    "from ipywidgets import interact, fixed\n",
    "\n",
    "%pylab inline"
   ]
  },
  {
   "cell_type": "code",
   "execution_count": null,
   "metadata": {},
   "outputs": [],
   "source": [
    "def pseudotime_per_bead(slide_seq_dge, barcode_locations, negative_gene_to_coefficient_dict, \n",
    "                                positive_gene_to_coefficient_dict, point_size, UMI_cutoff):\n",
    "    barcode_locations_for_pseudo = barcode_locations.copy()\n",
    "    barcode_locations_for_pseudo['Pseudotime'] = 0\n",
    "    for i in negative_gene_to_coefficient_dict:\n",
    "        try:\n",
    "            barcode_locations_for_pseudo['Pseudotime'] = (barcode_locations_for_pseudo['Pseudotime'] + \n",
    "                                        slide_seq_dge.transpose()[i]*negative_gene_to_coefficient_dict.get(i))\n",
    "        except:\n",
    "            print('WARNING: The following gene: '+str(i)+\n",
    "                  ' is missing in the slide seq dge and was not used in calculating pseudotime')\n",
    "    for j in positive_gene_to_coefficient_dict:\n",
    "        try:\n",
    "            barcode_locations_for_pseudo['Pseudotime'] = (barcode_locations_for_pseudo['Pseudotime'] + \n",
    "                                        slide_seq_dge.transpose()[j]*positive_gene_to_coefficient_dict.get(j))\n",
    "        except:\n",
    "            print('WARNING: The following gene: '+str(j)+\n",
    "                  ' is missing in the slide seq dge and was not used in calculating pseudotime')\n",
    "            \n",
    "    barcode_locations_for_pseudo['UMI'] = slide_seq_dge.sum(axis = 0)\n",
    "    barcode_locations_for_pseudo = barcode_locations_for_pseudo[barcode_locations_for_pseudo.UMI > UMI_cutoff]\n",
    "    barcode_locations_for_pseudo['Normalized Pseudotime'] = (barcode_locations_for_pseudo['Pseudotime']/\n",
    "                                                            barcode_locations_for_pseudo['UMI'])\n",
    "    matplotlib.rc('image', cmap='plasma')\n",
    "    pseudotime_std_dev = float(barcode_locations_for_pseudo['Normalized Pseudotime'].describe()['std'])\n",
    "    pseudotime_mean = float(barcode_locations_for_pseudo['Normalized Pseudotime'].describe()['mean'])\n",
    "    vmin = pseudotime_mean - 2*pseudotime_std_dev\n",
    "    vmax = pseudotime_mean + 2*pseudotime_std_dev\n",
    "    fig = plt.figure(figsize=(15,10))\n",
    "    plt.scatter(barcode_locations_for_pseudo['x'], barcode_locations_for_pseudo['y'], \n",
    "                c = barcode_locations_for_pseudo['Normalized Pseudotime'], s = point_size, \n",
    "                vmin = vmin, vmax = vmax)\n",
    "    plt.colorbar()\n",
    "    plt.savefig('Slide-seq_Pseudotime_Puck24.eps')\n",
    "    plt.show()\n",
    "    return barcode_locations_for_pseudo, fig"
   ]
  },
  {
   "cell_type": "markdown",
   "metadata": {},
   "source": [
    "### Assign Pseudotime Value\n",
    "    slide_seq_dge_file: slide seq differential gene expression matrix\n",
    "    barcode_locations_file: slide seq barcodes with locations"
   ]
  },
  {
   "cell_type": "code",
   "execution_count": null,
   "metadata": {},
   "outputs": [],
   "source": [
    "negative_gene_to_coefficient_dict = {'mt-Nd1': 2.240772116330779, 'Tuba3b': 20.0, 'Stmn1': 4.661355144844998, 'Cypt4': 2.914946084728282, 'mt-Cytb': 7.940721195057547, 'Hsp90aa1': 7.719926741335844}\n",
    "positive_gene_to_coefficient_dict = {'Tnp2': 2.2300113564016115, 'Smcp': 20.0, 'Gsg1': 10.749147113890643, 'Oaz3': 13.684470608169942, 'Hmgb4': 11.19717467780924, 'Lyar': 3.205774497366639, 'Prm1': 1.8021648809899742, 'Dbil5': 2.4081140269931445}\n",
    "slide_seq_dge_file = 'file name.csv' \n",
    "barcode_locations_file = 'file name.csv'"
   ]
  },
  {
   "cell_type": "code",
   "execution_count": null,
   "metadata": {},
   "outputs": [],
   "source": [
    "slide_seq_dge = pd.read_csv(slide_seq_dge_file, header = 0, index_col = 0)\n",
    "barcode_locations = pd.read_csv(barcode_locations_file, header = 0,index_col = 0)"
   ]
  },
  {
   "cell_type": "code",
   "execution_count": null,
   "metadata": {},
   "outputs": [],
   "source": [
    "barcode_locations_for_pseudo = barcode_locations.copy()\n",
    "barcode_locations_for_pseudo.head(3)"
   ]
  },
  {
   "cell_type": "code",
   "execution_count": null,
   "metadata": {},
   "outputs": [],
   "source": [
    "# Visulize UMI distribution \n",
    "b = np.log2(barcode_locations_for_pseudo['UMI'])\n",
    "plt.hist(x=b, color='#0504aa', bins= 50, alpha=0.7)\n",
    "plt.grid(axis='y', alpha=0.75)\n",
    "plt.xlabel('log2(UMI Count)')\n",
    "plt.ylabel('Number of Beads')\n",
    "plt.show()"
   ]
  },
  {
   "cell_type": "code",
   "execution_count": null,
   "metadata": {},
   "outputs": [],
   "source": [
    "# Calculate the mean UMI count per bead\n",
    "barcode_locations_for_pseudo['UMI'].mean()"
   ]
  },
  {
   "cell_type": "code",
   "execution_count": null,
   "metadata": {},
   "outputs": [],
   "source": [
    "# Calculate pseudotime value for each bead\n",
    "barcode_locations_for_pseudo['Pseudotime'] = 0\n",
    "for i in negative_gene_to_coefficient_dict:\n",
    "        try:\n",
    "            barcode_locations_for_pseudo['Pseudotime'] = (barcode_locations_for_pseudo['Pseudotime'] + \n",
    "                                        slide_seq_dge[i]*negative_gene_to_coefficient_dict.get(i))\n",
    "        except:\n",
    "            print('WARNING: The following gene: '+str(i)+\n",
    "                  ' is missing in the slide seq dge and was not used in calculating pseudotime')\n",
    "for j in positive_gene_to_coefficient_dict:\n",
    "        try:\n",
    "            barcode_locations_for_pseudo['Pseudotime'] = (barcode_locations_for_pseudo['Pseudotime'] + \n",
    "                                        slide_seq_dge[j]*positive_gene_to_coefficient_dict.get(j))\n",
    "        except:\n",
    "            print('WARNING: The following gene: '+str(j)+\n",
    "                  ' is missing in the slide seq dge and was not used in calculating pseudotime')   "
   ]
  },
  {
   "cell_type": "code",
   "execution_count": null,
   "metadata": {},
   "outputs": [],
   "source": [
    "barcode_locations_for_pseudo['Normalized Pseudotime'] = (barcode_locations_for_pseudo['Pseudotime']/\n",
    "                                                            barcode_locations_for_pseudo['UMI'])"
   ]
  },
  {
   "cell_type": "code",
   "execution_count": null,
   "metadata": {},
   "outputs": [],
   "source": [
    "# Plot pseudotime values\n",
    "barcodes_and_pseudotime, beads_pseudotime_plot = pseudotime_per_bead(slide_seq_dge = slide_seq_dge.T, barcode_locations=barcode_locations, \n",
    "                    negative_gene_to_coefficient_dict = negative_gene_to_coefficient_dict, \n",
    "                    positive_gene_to_coefficient_dict = positive_gene_to_coefficient_dict,\n",
    "                    point_size = 6, UMI_cutoff = 30)"
   ]
  },
  {
   "cell_type": "markdown",
   "metadata": {},
   "source": [
    "### Segmentation of the slide-seq data"
   ]
  },
  {
   "cell_type": "code",
   "execution_count": null,
   "metadata": {},
   "outputs": [],
   "source": [
    "int_location = barcode_locations_for_pseudo.copy() "
   ]
  },
  {
   "cell_type": "code",
   "execution_count": null,
   "metadata": {},
   "outputs": [],
   "source": [
    "int_location = int_location.reset_index()\n",
    "int_location.head()"
   ]
  },
  {
   "cell_type": "code",
   "execution_count": null,
   "metadata": {},
   "outputs": [],
   "source": [
    "x=int_location['x'].values/25\n",
    "y=int_location['y'].values/25"
   ]
  },
  {
   "cell_type": "code",
   "execution_count": null,
   "metadata": {},
   "outputs": [],
   "source": [
    "#take only the integer part\n",
    "int_location['xcoord_int'] = x.astype(int)\n",
    "int_location['ycoord_int'] = y.astype(int)"
   ]
  },
  {
   "cell_type": "code",
   "execution_count": null,
   "metadata": {},
   "outputs": [],
   "source": [
    "#Creat a 2-d array with values = 0\n",
    "Matrix = np.zeros((256, 256))"
   ]
  },
  {
   "cell_type": "code",
   "execution_count": null,
   "metadata": {},
   "outputs": [],
   "source": [
    "#Replace the array values with pseudotime value for each bead\n",
    "for index, row in int_location.iterrows():\n",
    "    Matrix[row['xcoord_int']-1][row['ycoord_int']-1] = row['Normalized Pseudotime']*1000"
   ]
  },
  {
   "cell_type": "code",
   "execution_count": null,
   "metadata": {},
   "outputs": [],
   "source": [
    "pseudotime_std_dev = float(int_location['Normalized Pseudotime'].describe()['std'])\n",
    "pseudotime_mean = float(int_location['Normalized Pseudotime'].describe()['mean'])\n",
    "vmin = pseudotime_mean - 2*pseudotime_std_dev\n",
    "vmax = pseudotime_mean + 2*pseudotime_std_dev"
   ]
  },
  {
   "cell_type": "code",
   "execution_count": null,
   "metadata": {},
   "outputs": [],
   "source": [
    "# Plot psuedotime image\n",
    "imgplot = plt.imshow(Matrix, cmap = 'Greys', vmin = vmin*1000, vmax = vmax*1000)\n",
    "plt.colorbar()\n",
    "plt.show()"
   ]
  },
  {
   "cell_type": "code",
   "execution_count": null,
   "metadata": {},
   "outputs": [],
   "source": [
    "gauss_kernel = Gaussian2DKernel(2)\n",
    "smoothed_Matrix = convolve(Matrix, gauss_kernel)\n",
    "imgplot = plt.imshow(smoothed_Matrix, cmap = 'Greys') #vmin = vmin, vmax = vmax\n",
    "plt.colorbar()\n",
    "plt.show()"
   ]
  },
  {
   "cell_type": "code",
   "execution_count": null,
   "metadata": {},
   "outputs": [],
   "source": [
    "#thresholding by an arbitrary number\n",
    "binary_Matrix = smoothed_Matrix > 280\n",
    "plt.imshow(binary_Matrix,cmap = 'Greys')"
   ]
  },
  {
   "cell_type": "code",
   "execution_count": null,
   "metadata": {},
   "outputs": [],
   "source": [
    "labeled, nr_objects = mh.label(binary_Matrix)\n",
    "print(nr_objects)\n",
    "\n",
    "plt.imshow(labeled)\n",
    "plt.jet()"
   ]
  },
  {
   "cell_type": "code",
   "execution_count": null,
   "metadata": {},
   "outputs": [],
   "source": [
    "sigma = 2 #Sigma values can be changed\n",
    "dnaf = mh.gaussian_filter(Matrix, sigma)\n",
    "maxima = mh.regmax(mh.stretch(dnaf))\n",
    "maxima,_= mh.label(maxima)\n",
    "plt.imshow(maxima)"
   ]
  },
  {
   "cell_type": "code",
   "execution_count": null,
   "metadata": {},
   "outputs": [],
   "source": [
    "# Distance transform\n",
    "dist = mh.distance(binary_Matrix)\n",
    "plt.imshow(dist)\n",
    "plt.colorbar()"
   ]
  },
  {
   "cell_type": "code",
   "execution_count": null,
   "metadata": {},
   "outputs": [],
   "source": [
    "dist = 500 - mh.stretch(dist)\n",
    "watershed = mh.cwatershed(dist, maxima)\n",
    "plt.imshow(watershed)"
   ]
  },
  {
   "cell_type": "code",
   "execution_count": null,
   "metadata": {},
   "outputs": [],
   "source": [
    "# Watershed\n",
    "watershed *= binary_Matrix\n",
    "plt.imshow(watershed)"
   ]
  },
  {
   "cell_type": "code",
   "execution_count": null,
   "metadata": {},
   "outputs": [],
   "source": [
    "Cluster = {}\n",
    "for index, row in int_location.iterrows():\n",
    "    Cluster[index] = watershed[row['xcoord_int']-1][row['ycoord_int']-1]"
   ]
  },
  {
   "cell_type": "code",
   "execution_count": null,
   "metadata": {},
   "outputs": [],
   "source": [
    "Cluster_df = pd.DataFrame.from_dict(Cluster, orient='index')"
   ]
  },
  {
   "cell_type": "code",
   "execution_count": null,
   "metadata": {},
   "outputs": [],
   "source": [
    "int_location['Cluster'] = Cluster_df[0]"
   ]
  },
  {
   "cell_type": "markdown",
   "metadata": {},
   "source": [
    "### K-nearest neighbor"
   ]
  },
  {
   "cell_type": "code",
   "execution_count": null,
   "metadata": {},
   "outputs": [],
   "source": [
    "Assigned = int_location[int_location['Cluster'] != 0]\n",
    "Unassigned = int_location[int_location['Cluster'] == 0]"
   ]
  },
  {
   "cell_type": "code",
   "execution_count": null,
   "metadata": {},
   "outputs": [],
   "source": [
    "X = Assigned.iloc[:, 6:8].values\n",
    "y = Assigned.iloc[:, 8].values"
   ]
  },
  {
   "cell_type": "code",
   "execution_count": null,
   "metadata": {},
   "outputs": [],
   "source": [
    "X_train, X_test, y_train, y_test = train_test_split(X, y, test_size=0.20)"
   ]
  },
  {
   "cell_type": "code",
   "execution_count": null,
   "metadata": {},
   "outputs": [],
   "source": [
    "classifier = KNeighborsClassifier(n_neighbors=5)\n",
    "classifier.fit(X_train, y_train)"
   ]
  },
  {
   "cell_type": "code",
   "execution_count": null,
   "metadata": {},
   "outputs": [],
   "source": [
    "y_pred = classifier.predict(X_test)"
   ]
  },
  {
   "cell_type": "code",
   "execution_count": null,
   "metadata": {},
   "outputs": [],
   "source": [
    "print(confusion_matrix(y_test, y_pred))\n",
    "print(classification_report(y_test, y_pred))"
   ]
  },
  {
   "cell_type": "code",
   "execution_count": null,
   "metadata": {},
   "outputs": [],
   "source": [
    "X_real = Unassigned.iloc[:, 6:8].values\n",
    "y_real = classifier.predict(X_real)"
   ]
  },
  {
   "cell_type": "code",
   "execution_count": null,
   "metadata": {},
   "outputs": [],
   "source": [
    "y_real_df = pd.DataFrame(y_real) "
   ]
  },
  {
   "cell_type": "code",
   "execution_count": null,
   "metadata": {},
   "outputs": [],
   "source": [
    "Unassigned['Cluster'] = y_real_df[0].values"
   ]
  },
  {
   "cell_type": "code",
   "execution_count": null,
   "metadata": {},
   "outputs": [],
   "source": [
    "int_location_seg = pd.concat([Unassigned, Assigned])"
   ]
  },
  {
   "cell_type": "code",
   "execution_count": null,
   "metadata": {},
   "outputs": [],
   "source": [
    "Segmentation = int_location_seg.sort_index()"
   ]
  },
  {
   "cell_type": "code",
   "execution_count": null,
   "metadata": {},
   "outputs": [],
   "source": [
    "Segmentation = Segmentation.set_index('barcode')"
   ]
  },
  {
   "cell_type": "code",
   "execution_count": null,
   "metadata": {},
   "outputs": [],
   "source": [
    "grouped_seg = Segmentation.groupby('Cluster')\n",
    "group_serise = {}\n",
    "\n",
    "for name, group in grouped_seg:\n",
    "    group_serise[name] = name   "
   ]
  },
  {
   "cell_type": "code",
   "execution_count": null,
   "metadata": {},
   "outputs": [],
   "source": [
    "# Visulize Segmentation \n",
    "bool_col = Segmentation['Cluster']==0\n",
    "plt.figure(figsize(6, 6))\n",
    "for key, value in group_serise.items():\n",
    "    boolcol = Segmentation['Cluster']==int(key)\n",
    "    plt.scatter(Segmentation[boolcol]['x'], Segmentation[boolcol]['y'], s=15, alpha=0.7, cmap= 'tab20c') \n",
    "                    \n",
    "plt.title('Segmented tubules')\n",
    "plt.axis('equal')\n",
    "plt.show()"
   ]
  },
  {
   "cell_type": "markdown",
   "metadata": {},
   "source": [
    "### Output spatial gene matrix for every segmented seminiferous tubule"
   ]
  },
  {
   "cell_type": "code",
   "execution_count": null,
   "metadata": {},
   "outputs": [],
   "source": [
    "Combined_raw = pd.concat([Segmentation, slide_seq_dge], axis =1)\n",
    "Combined_raw.head()"
   ]
  },
  {
   "cell_type": "code",
   "execution_count": null,
   "metadata": {},
   "outputs": [],
   "source": [
    "Combined_raw_drop = Combined_raw.drop(Combined_raw.loc[:, 'UMI':'ycoord_int'].columns, axis=1)"
   ]
  },
  {
   "cell_type": "code",
   "execution_count": null,
   "metadata": {},
   "outputs": [],
   "source": [
    "grouped_raw = Combined_raw_drop.groupby('Cluster')"
   ]
  },
  {
   "cell_type": "code",
   "execution_count": null,
   "metadata": {},
   "outputs": [],
   "source": [
    "Cluster_num = Combined_raw_drop['Cluster'].unique()\n",
    "for i in tqdm(Cluster_num):\n",
    "    new = grouped_raw.get_group(i)\n",
    "    new.to_csv('Tubule_'+ str(i) +'.csv')"
   ]
  }
 ],
 "metadata": {
  "kernelspec": {
   "display_name": "Python 3",
   "language": "python",
   "name": "python3"
  },
  "language_info": {
   "codemirror_mode": {
    "name": "ipython",
    "version": 3
   },
   "file_extension": ".py",
   "mimetype": "text/x-python",
   "name": "python",
   "nbconvert_exporter": "python",
   "pygments_lexer": "ipython3",
   "version": "3.6.7"
  }
 },
 "nbformat": 4,
 "nbformat_minor": 2
}
